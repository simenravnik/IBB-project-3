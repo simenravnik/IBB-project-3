{
 "cells": [
  {
   "cell_type": "code",
   "execution_count": 57,
   "metadata": {},
   "outputs": [],
   "source": [
    "import itertools\n",
    "from sklearn.model_selection import train_test_split\n",
    "from sklearn.metrics import accuracy_score\n",
    "from sklearn.metrics import classification_report\n",
    "from sklearn.metrics import confusion_matrix\n",
    "from pyimagesearch.localbinarypatterns import LocalBinaryPatterns\n",
    "from sklearn.neighbors import KNeighborsClassifier\n",
    "from imutils import paths\n",
    "import cv2\n",
    "import pandas as pd\n",
    "import numpy as np"
   ]
  },
  {
   "cell_type": "code",
   "execution_count": 49,
   "metadata": {},
   "outputs": [],
   "source": [
    "db = 'yale'\n",
    "data_path = \"data/\" + db\n",
    "\n",
    "points = 12\n",
    "radius = 14\n",
    "\n",
    "dataset = [file for file in paths.list_images(data_path)]"
   ]
  },
  {
   "cell_type": "code",
   "execution_count": 50,
   "metadata": {},
   "outputs": [],
   "source": [
    "LBP = LocalBinaryPatterns(points, radius)\n",
    "\n",
    "data = []\n",
    "labels = []\n",
    "\n",
    "for image_path in paths.list_images(data_path):\n",
    "    \n",
    "    # Read the image and convert it to grayscale\n",
    "    image = cv2.imread(image_path)\n",
    "\n",
    "    try:\n",
    "        image_gray = cv2.cvtColor(image, cv2.COLOR_BGR2GRAY)\n",
    "    except:\n",
    "        print('ERROR:', image_path)\n",
    "\n",
    "    # Compute LBP and retrieve histogram\n",
    "    hist = LBP.describe(image_gray)\n",
    "    \n",
    "    # Append histogram to data list and label to labels\n",
    "    data.append(hist)\n",
    "    labels.append(image_path.split(\"/\")[-2])"
   ]
  },
  {
   "cell_type": "code",
   "execution_count": 71,
   "metadata": {},
   "outputs": [],
   "source": [
    "# Split train and test datasets\n",
    "X_train, X_test, y_train, y_test = train_test_split(data, labels, test_size=0.3, random_state=0, stratify=labels)"
   ]
  },
  {
   "cell_type": "code",
   "execution_count": 72,
   "metadata": {},
   "outputs": [
    {
     "name": "stdout",
     "output_type": "stream",
     "text": [
      "Accuracy =  66.0\n"
     ]
    }
   ],
   "source": [
    "# Classification\n",
    "k = 1\n",
    "knn = KNeighborsClassifier(n_neighbors=k)\n",
    "knn.fit(X_train, y_train)\n",
    "\n",
    "correct_predictions = 0\n",
    "all_predictions = len(y_test)\n",
    "\n",
    "for i in range(len(y_test)):\n",
    "    \n",
    "    hist = X_test[i]\n",
    "    prediction = knn.predict([hist])[0]\n",
    "\n",
    "    if prediction == y_test[i]:\n",
    "        correct_predictions += 1\n",
    "\n",
    "accuracy = float(correct_predictions * 100 / all_predictions)\n",
    "print(\"Accuracy = \", accuracy)"
   ]
  },
  {
   "cell_type": "code",
   "execution_count": 73,
   "metadata": {},
   "outputs": [],
   "source": [
    "y_pred = knn.predict(X_test)"
   ]
  },
  {
   "cell_type": "code",
   "execution_count": 74,
   "metadata": {},
   "outputs": [
    {
     "name": "stdout",
     "output_type": "stream",
     "text": [
      "Accuracy =  0.66\n",
      "              precision    recall  f1-score   support\n",
      "\n",
      "          01       1.00      0.50      0.67         4\n",
      "          02       0.67      0.67      0.67         3\n",
      "          03       0.50      0.67      0.57         3\n",
      "          04       1.00      0.25      0.40         4\n",
      "          05       1.00      0.67      0.80         3\n",
      "          06       0.75      0.75      0.75         4\n",
      "          07       0.60      1.00      0.75         3\n",
      "          08       0.50      1.00      0.67         3\n",
      "          09       0.50      0.33      0.40         3\n",
      "          10       1.00      0.67      0.80         3\n",
      "          11       0.75      1.00      0.86         3\n",
      "          12       0.67      0.50      0.57         4\n",
      "          13       0.67      1.00      0.80         4\n",
      "          14       1.00      0.33      0.50         3\n",
      "          15       0.40      0.67      0.50         3\n",
      "\n",
      "    accuracy                           0.66        50\n",
      "   macro avg       0.73      0.67      0.65        50\n",
      "weighted avg       0.74      0.66      0.65        50\n",
      "\n"
     ]
    }
   ],
   "source": [
    "print(\"Accuracy = \", accuracy_score(y_test, y_pred))\n",
    "print(classification_report(y_test, y_pred))"
   ]
  },
  {
   "cell_type": "markdown",
   "metadata": {},
   "source": [
    "## 2. SVM"
   ]
  },
  {
   "cell_type": "code",
   "execution_count": 108,
   "metadata": {},
   "outputs": [],
   "source": [
    "from sklearn import svm"
   ]
  },
  {
   "cell_type": "code",
   "execution_count": 109,
   "metadata": {},
   "outputs": [],
   "source": [
    "#DataFlair - Initialize the Multi Layer Perceptron Classifier\n",
    "model = svm.SVC(kernel='poly', gamma=0.5, C=0.1)"
   ]
  },
  {
   "cell_type": "code",
   "execution_count": 110,
   "metadata": {},
   "outputs": [
    {
     "data": {
      "text/plain": [
       "SVC(C=0.1, gamma=0.5, kernel='poly')"
      ]
     },
     "execution_count": 110,
     "metadata": {},
     "output_type": "execute_result"
    }
   ],
   "source": [
    "#DataFlair - Train the model\n",
    "model.fit(X_train,y_train)"
   ]
  },
  {
   "cell_type": "code",
   "execution_count": 111,
   "metadata": {},
   "outputs": [],
   "source": [
    "#DataFlair - Predict for the test set\n",
    "y_pred=model.predict(X_test)"
   ]
  },
  {
   "cell_type": "code",
   "execution_count": 112,
   "metadata": {},
   "outputs": [
    {
     "name": "stdout",
     "output_type": "stream",
     "text": [
      "Accuracy: 16.0%\n"
     ]
    }
   ],
   "source": [
    "#DataFlair - Calculate the accuracy of our model\n",
    "accuracy=accuracy_score(y_true=y_test, y_pred=y_pred)\n",
    "#DataFlair - Print the accuracy\n",
    "print(\"Accuracy: {:.1f}%\".format(accuracy*100))"
   ]
  },
  {
   "cell_type": "code",
   "execution_count": null,
   "metadata": {},
   "outputs": [],
   "source": []
  }
 ],
 "metadata": {
  "interpreter": {
   "hash": "15e88de65049aaa5a9963e35491b5af08fe02e84501cca2f549f72cc73dd1de2"
  },
  "kernelspec": {
   "display_name": "Python 3.9.4 64-bit ('venv': venv)",
   "language": "python",
   "name": "python3"
  },
  "language_info": {
   "codemirror_mode": {
    "name": "ipython",
    "version": 3
   },
   "file_extension": ".py",
   "mimetype": "text/x-python",
   "name": "python",
   "nbconvert_exporter": "python",
   "pygments_lexer": "ipython3",
   "version": "3.9.4"
  },
  "orig_nbformat": 4
 },
 "nbformat": 4,
 "nbformat_minor": 2
}
